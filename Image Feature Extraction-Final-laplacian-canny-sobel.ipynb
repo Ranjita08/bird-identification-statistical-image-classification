{
 "cells": [
  {
   "cell_type": "code",
   "execution_count": 1,
   "metadata": {
    "collapsed": true
   },
   "outputs": [],
   "source": [
    "import numpy as np\n",
    "import cv2\n",
    "import matplotlib.pyplot as plt\n",
    "%matplotlib inline\n",
    "import pandas as pd\n",
    "import math\n",
    "import re\n",
    "from PIL import Image\n",
    "import seaborn as sns\n",
    "from numpy import var"
   ]
  },
  {
   "cell_type": "code",
   "execution_count": 2,
   "metadata": {
    "collapsed": true
   },
   "outputs": [],
   "source": [
    "# get the list of all files in the folder - \"train\" and \"val and test\"\n",
    "from os import listdir\n",
    "from os.path import isfile, join\n",
    "mypath = \"F:\\\\Machine Learning\\\\Assignments\\\\Capstone Project - Bird Classification\\\\Bird_classification\\\\train\"\n",
    "onlyfiles = [f for f in listdir(mypath) if isfile(join(mypath, f)) and re.findall(r'JPG',f)]\n",
    "\n",
    "mypath_test = \"F:\\\\Machine Learning\\\\Assignments\\\\Capstone Project - Bird Classification\\\\Bird_classification\\\\val_and_test\"\n",
    "onlyfiles_test = [f for f in listdir(mypath_test) if isfile(join(mypath_test, f)) and re.findall(r'JPG',f)]"
   ]
  },
  {
   "cell_type": "code",
   "execution_count": 3,
   "metadata": {},
   "outputs": [
    {
     "data": {
      "text/plain": [
       "'100_1.JPG'"
      ]
     },
     "execution_count": 3,
     "metadata": {},
     "output_type": "execute_result"
    }
   ],
   "source": [
    "onlyfiles[1]"
   ]
  },
  {
   "cell_type": "code",
   "execution_count": 4,
   "metadata": {},
   "outputs": [
    {
     "data": {
      "text/plain": [
       "'0001.JPG'"
      ]
     },
     "execution_count": 4,
     "metadata": {},
     "output_type": "execute_result"
    }
   ],
   "source": [
    "onlyfiles_test[1]"
   ]
  },
  {
   "cell_type": "code",
   "execution_count": 5,
   "metadata": {},
   "outputs": [
    {
     "data": {
      "text/html": [
       "<div>\n",
       "<style scoped>\n",
       "    .dataframe tbody tr th:only-of-type {\n",
       "        vertical-align: middle;\n",
       "    }\n",
       "\n",
       "    .dataframe tbody tr th {\n",
       "        vertical-align: top;\n",
       "    }\n",
       "\n",
       "    .dataframe thead th {\n",
       "        text-align: right;\n",
       "    }\n",
       "</style>\n",
       "<table border=\"1\" class=\"dataframe\">\n",
       "  <thead>\n",
       "    <tr style=\"text-align: right;\">\n",
       "      <th></th>\n",
       "      <th>File</th>\n",
       "      <th>Covariance_l</th>\n",
       "      <th>Correlation_l</th>\n",
       "      <th>Var(x)_l</th>\n",
       "      <th>Var(y)_l</th>\n",
       "      <th>Angle1_l</th>\n",
       "      <th>Angle2_l</th>\n",
       "      <th>Covariance_c</th>\n",
       "      <th>Correlation_c</th>\n",
       "      <th>Var(x)_c</th>\n",
       "      <th>...</th>\n",
       "      <th>Var(y)_sx</th>\n",
       "      <th>Angle1_sx</th>\n",
       "      <th>Angle2_sx</th>\n",
       "      <th>Covariance_sy</th>\n",
       "      <th>Correlation_sy</th>\n",
       "      <th>Var(x)_sy</th>\n",
       "      <th>Var(y)_sy</th>\n",
       "      <th>Angle1_sy</th>\n",
       "      <th>Angle2_sy</th>\n",
       "      <th>BIRD</th>\n",
       "    </tr>\n",
       "  </thead>\n",
       "  <tbody>\n",
       "  </tbody>\n",
       "</table>\n",
       "<p>0 rows × 26 columns</p>\n",
       "</div>"
      ],
      "text/plain": [
       "Empty DataFrame\n",
       "Columns: [File, Covariance_l, Correlation_l, Var(x)_l, Var(y)_l, Angle1_l, Angle2_l, Covariance_c, Correlation_c, Var(x)_c, Var(y)_c, Angle1_c, Angle2_c, Covariance_sx, Correlation_sx, Var(x)_sx, Var(y)_sx, Angle1_sx, Angle2_sx, Covariance_sy, Correlation_sy, Var(x)_sy, Var(y)_sy, Angle1_sy, Angle2_sy, BIRD]\n",
       "Index: []\n",
       "\n",
       "[0 rows x 26 columns]"
      ]
     },
     "execution_count": 5,
     "metadata": {},
     "output_type": "execute_result"
    }
   ],
   "source": [
    "df = pd.DataFrame(columns = ['File','Covariance_l','Correlation_l','Var(x)_l','Var(y)_l','Angle1_l','Angle2_l',                            \n",
    "                                    'Covariance_c','Correlation_c','Var(x)_c','Var(y)_c','Angle1_c','Angle2_c',\n",
    "                                    'Covariance_sx','Correlation_sx','Var(x)_sx','Var(y)_sx','Angle1_sx','Angle2_sx',\n",
    "                                    'Covariance_sy','Correlation_sy','Var(x)_sy','Var(y)_sy','Angle1_sy','Angle2_sy',                                  \n",
    "                             'BIRD'])\n",
    "df"
   ]
  },
  {
   "cell_type": "code",
   "execution_count": 6,
   "metadata": {
    "collapsed": true
   },
   "outputs": [],
   "source": [
    "def filter_value(type):\n",
    "    \n",
    "    if type=='laplacian':\n",
    "        value = cv2.Laplacian(gray,cv2.CV_64F)\n",
    "    elif type == 'canny':\n",
    "        value = cv2.Canny(gray,100,200)\n",
    "    elif type == 'sobelx':\n",
    "        value = cv2.Sobel(gray,cv2.CV_64F,0,1,ksize=5)   \n",
    "    elif type == 'sobely':\n",
    "        value = cv2.Sobel(gray,cv2.CV_64F,1,0,ksize=5)\n",
    "    return value"
   ]
  },
  {
   "cell_type": "code",
   "execution_count": 7,
   "metadata": {},
   "outputs": [],
   "source": [
    "def edge_detect(gray,type):\n",
    "   \n",
    "        value = filter_value(type)           \n",
    "        _,thresh = cv2.threshold(value,15,255,cv2.THRESH_BINARY)            \n",
    "        x,y = np.nonzero(thresh)            \n",
    "        x = x - np.mean(x)\n",
    "        y = y - np.mean(y)            \n",
    "        coords = np.vstack([x, y])          \n",
    "        cov = np.cov(coords)            \n",
    "        if np.any(np.isnan(cov)) == True:\n",
    "            cov.fill(0)           \n",
    "        evals, evecs = np.linalg.eig(cov)\n",
    "        sort_indices = np.argsort(evals)[::-1]\n",
    "        x_v1, y_v1 = evecs[:, sort_indices[0]]  \n",
    "        x_v2, y_v2 = evecs[:, sort_indices[1]]\n",
    "        angle1 = math.degrees(np.arctan(y_v1/x_v1))\n",
    "        angle2 = math.degrees(np.arctan(y_v2/x_v2))   \n",
    "        \n",
    "        return np.cov(x,y)[0][1],np.corrcoef(x,y)[0][1],var(x),var(y),angle1,angle2\n",
    "    \n",
    "    "
   ]
  },
  {
   "cell_type": "code",
   "execution_count": 8,
   "metadata": {},
   "outputs": [
    {
     "name": "stderr",
     "output_type": "stream",
     "text": [
      "C:\\Users\\USER\\AppData\\Roaming\\Python\\Python36\\site-packages\\numpy\\core\\fromnumeric.py:3118: RuntimeWarning: Mean of empty slice.\n",
      "  out=out, **kwargs)\n",
      "C:\\Users\\USER\\AppData\\Roaming\\Python\\Python36\\site-packages\\numpy\\core\\_methods.py:85: RuntimeWarning: invalid value encountered in double_scalars\n",
      "  ret = ret.dtype.type(ret / rcount)\n",
      "C:\\Users\\USER\\AppData\\Roaming\\Python\\Python36\\site-packages\\numpy\\lib\\function_base.py:392: RuntimeWarning: Mean of empty slice.\n",
      "  avg = a.mean(axis)\n",
      "C:\\Users\\USER\\AppData\\Roaming\\Python\\Python36\\site-packages\\numpy\\core\\_methods.py:78: RuntimeWarning: invalid value encountered in true_divide\n",
      "  ret, rcount, out=ret, casting='unsafe', subok=False)\n",
      "C:\\Users\\USER\\Anaconda3\\lib\\site-packages\\ipykernel_launcher.py:9: RuntimeWarning: Degrees of freedom <= 0 for slice\n",
      "  if __name__ == '__main__':\n",
      "C:\\Users\\USER\\AppData\\Roaming\\Python\\Python36\\site-packages\\numpy\\lib\\function_base.py:2451: RuntimeWarning: divide by zero encountered in true_divide\n",
      "  c *= np.true_divide(1, fact)\n",
      "C:\\Users\\USER\\AppData\\Roaming\\Python\\Python36\\site-packages\\numpy\\lib\\function_base.py:2451: RuntimeWarning: invalid value encountered in multiply\n",
      "  c *= np.true_divide(1, fact)\n",
      "C:\\Users\\USER\\Anaconda3\\lib\\site-packages\\ipykernel_launcher.py:16: RuntimeWarning: divide by zero encountered in double_scalars\n",
      "  app.launch_new_instance()\n",
      "C:\\Users\\USER\\Anaconda3\\lib\\site-packages\\ipykernel_launcher.py:19: RuntimeWarning: Degrees of freedom <= 0 for slice\n",
      "C:\\Users\\USER\\AppData\\Roaming\\Python\\Python36\\site-packages\\numpy\\lib\\function_base.py:2522: RuntimeWarning: Degrees of freedom <= 0 for slice\n",
      "  c = cov(x, y, rowvar)\n",
      "C:\\Users\\USER\\AppData\\Roaming\\Python\\Python36\\site-packages\\numpy\\core\\fromnumeric.py:3367: RuntimeWarning: Degrees of freedom <= 0 for slice\n",
      "  **kwargs)\n",
      "C:\\Users\\USER\\AppData\\Roaming\\Python\\Python36\\site-packages\\numpy\\core\\_methods.py:110: RuntimeWarning: invalid value encountered in true_divide\n",
      "  arrmean, rcount, out=arrmean, casting='unsafe', subok=False)\n",
      "C:\\Users\\USER\\AppData\\Roaming\\Python\\Python36\\site-packages\\numpy\\core\\_methods.py:132: RuntimeWarning: invalid value encountered in double_scalars\n",
      "  ret = ret.dtype.type(ret / rcount)\n",
      "C:\\Users\\USER\\AppData\\Roaming\\Python\\Python36\\site-packages\\numpy\\lib\\function_base.py:2530: RuntimeWarning: invalid value encountered in true_divide\n",
      "  c /= stddev[:, None]\n",
      "C:\\Users\\USER\\AppData\\Roaming\\Python\\Python36\\site-packages\\numpy\\lib\\function_base.py:2531: RuntimeWarning: invalid value encountered in true_divide\n",
      "  c /= stddev[None, :]\n",
      "C:\\Users\\USER\\Anaconda3\\lib\\site-packages\\ipykernel_launcher.py:17: RuntimeWarning: divide by zero encountered in double_scalars\n"
     ]
    }
   ],
   "source": [
    "for i in range(len(onlyfiles)):    \n",
    "    \n",
    "    try:\n",
    "        file = onlyfiles[i]\n",
    "        img = cv2.imread('train/'+file)     \n",
    "        gray = cv2.cvtColor(img,cv2.COLOR_BGR2GRAY)              \n",
    "        cov_l,cor_l,varx_l,vary_l,angle1_l,angle2_l = edge_detect(gray,'laplacian') \n",
    "        cov_c,cor_c,varx_c,vary_c,angle1_c,angle2_c = edge_detect(gray,'canny')\n",
    "        cov_sx,cor_sx,varx_sx,vary_sx,angle1_sx,angle2_sx = edge_detect(gray,'sobelx')   \n",
    "        cov_sy,cor_sy,varx_sy,vary_sy,angle1_sy,angle2_sy = edge_detect(gray,'sobely')       \n",
    "        bird = re.findall(r'\\d',onlyfiles[i])[-1]\n",
    "        df = df.append({'File':file,'Covariance_l':cov_l,'Correlation_l':cor_l,'Var(x)_l':varx_l,'Var(y)_l':vary_l,'Angle1_l':angle1_l,'Angle2_l':angle2_l,                            \n",
    "                                    'Covariance_c':cov_c,'Correlation_c':cor_c,'Var(x)_c':varx_c,'Var(y)_c':vary_c,'Angle1_c':angle1_c,'Angle2_c':angle2_c,\n",
    "                                    'Covariance_sx':cov_sx,'Correlation_sx':cor_sx,'Var(x)_sx':varx_sx,'Var(y)_sx':vary_sx,'Angle1_sx':angle1_sx,'Angle2_sx':angle2_sx,\n",
    "                                    'Covariance_sy':cov_sy,'Correlation_sy':cor_sy,'Var(x)_sy':varx_sy,'Var(y)_sy':vary_sy,'Angle1_sy':angle1_sy,'Angle2_sy':angle2_sy,                                    \n",
    "                        'BIRD':bird},ignore_index=True)\n",
    "                     \n",
    "    except:\n",
    "        print('some error at: ',i)\n",
    "        continue"
   ]
  },
  {
   "cell_type": "code",
   "execution_count": 9,
   "metadata": {},
   "outputs": [
    {
     "data": {
      "text/html": [
       "<div>\n",
       "<style scoped>\n",
       "    .dataframe tbody tr th:only-of-type {\n",
       "        vertical-align: middle;\n",
       "    }\n",
       "\n",
       "    .dataframe tbody tr th {\n",
       "        vertical-align: top;\n",
       "    }\n",
       "\n",
       "    .dataframe thead th {\n",
       "        text-align: right;\n",
       "    }\n",
       "</style>\n",
       "<table border=\"1\" class=\"dataframe\">\n",
       "  <thead>\n",
       "    <tr style=\"text-align: right;\">\n",
       "      <th></th>\n",
       "      <th>File</th>\n",
       "      <th>Covariance_l</th>\n",
       "      <th>Correlation_l</th>\n",
       "      <th>Var(x)_l</th>\n",
       "      <th>Var(y)_l</th>\n",
       "      <th>Angle1_l</th>\n",
       "      <th>Angle2_l</th>\n",
       "      <th>Covariance_c</th>\n",
       "      <th>Correlation_c</th>\n",
       "      <th>Var(x)_c</th>\n",
       "      <th>...</th>\n",
       "      <th>Var(y)_sx</th>\n",
       "      <th>Angle1_sx</th>\n",
       "      <th>Angle2_sx</th>\n",
       "      <th>Covariance_sy</th>\n",
       "      <th>Correlation_sy</th>\n",
       "      <th>Var(x)_sy</th>\n",
       "      <th>Var(y)_sy</th>\n",
       "      <th>Angle1_sy</th>\n",
       "      <th>Angle2_sy</th>\n",
       "      <th>BIRD</th>\n",
       "    </tr>\n",
       "  </thead>\n",
       "  <tbody>\n",
       "    <tr>\n",
       "      <th>0</th>\n",
       "      <td>100_0.JPG</td>\n",
       "      <td>20.100772</td>\n",
       "      <td>0.004853</td>\n",
       "      <td>4048.689360</td>\n",
       "      <td>4224.828254</td>\n",
       "      <td>83.580110</td>\n",
       "      <td>-6.419890</td>\n",
       "      <td>NaN</td>\n",
       "      <td>NaN</td>\n",
       "      <td>NaN</td>\n",
       "      <td>...</td>\n",
       "      <td>4114.828432</td>\n",
       "      <td>-81.560078</td>\n",
       "      <td>8.439922</td>\n",
       "      <td>10.163191</td>\n",
       "      <td>0.002455</td>\n",
       "      <td>4171.049257</td>\n",
       "      <td>4108.540380</td>\n",
       "      <td>9.006279</td>\n",
       "      <td>-80.993721</td>\n",
       "      <td>0</td>\n",
       "    </tr>\n",
       "    <tr>\n",
       "      <th>1</th>\n",
       "      <td>100_1.JPG</td>\n",
       "      <td>-1141.668144</td>\n",
       "      <td>-0.429730</td>\n",
       "      <td>3473.922202</td>\n",
       "      <td>2020.861100</td>\n",
       "      <td>-28.729291</td>\n",
       "      <td>61.270709</td>\n",
       "      <td>-1140.384774</td>\n",
       "      <td>-0.49027</td>\n",
       "      <td>3136.6043</td>\n",
       "      <td>...</td>\n",
       "      <td>4159.928254</td>\n",
       "      <td>-7.021329</td>\n",
       "      <td>82.978671</td>\n",
       "      <td>-184.347678</td>\n",
       "      <td>-0.044806</td>\n",
       "      <td>3983.028610</td>\n",
       "      <td>4249.555354</td>\n",
       "      <td>-62.932006</td>\n",
       "      <td>27.067994</td>\n",
       "      <td>1</td>\n",
       "    </tr>\n",
       "  </tbody>\n",
       "</table>\n",
       "<p>2 rows × 26 columns</p>\n",
       "</div>"
      ],
      "text/plain": [
       "        File  Covariance_l  Correlation_l     Var(x)_l     Var(y)_l  \\\n",
       "0  100_0.JPG     20.100772       0.004853  4048.689360  4224.828254   \n",
       "1  100_1.JPG  -1141.668144      -0.429730  3473.922202  2020.861100   \n",
       "\n",
       "    Angle1_l   Angle2_l  Covariance_c  Correlation_c   Var(x)_c  ...  \\\n",
       "0  83.580110  -6.419890           NaN            NaN        NaN  ...   \n",
       "1 -28.729291  61.270709  -1140.384774       -0.49027  3136.6043  ...   \n",
       "\n",
       "     Var(y)_sx  Angle1_sx  Angle2_sx  Covariance_sy  Correlation_sy  \\\n",
       "0  4114.828432 -81.560078   8.439922      10.163191        0.002455   \n",
       "1  4159.928254  -7.021329  82.978671    -184.347678       -0.044806   \n",
       "\n",
       "     Var(x)_sy    Var(y)_sy  Angle1_sy  Angle2_sy  BIRD  \n",
       "0  4171.049257  4108.540380   9.006279 -80.993721     0  \n",
       "1  3983.028610  4249.555354 -62.932006  27.067994     1  \n",
       "\n",
       "[2 rows x 26 columns]"
      ]
     },
     "execution_count": 9,
     "metadata": {},
     "output_type": "execute_result"
    }
   ],
   "source": [
    "df.head(2)"
   ]
  },
  {
   "cell_type": "code",
   "execution_count": 10,
   "metadata": {
    "collapsed": true
   },
   "outputs": [],
   "source": [
    "#to save to csv file\n",
    "df.to_csv('Bird_df.csv')"
   ]
  },
  {
   "cell_type": "code",
   "execution_count": 11,
   "metadata": {
    "collapsed": true
   },
   "outputs": [],
   "source": [
    "#to make empty\n",
    "df = df[0:0]"
   ]
  },
  {
   "cell_type": "code",
   "execution_count": 12,
   "metadata": {},
   "outputs": [
    {
     "data": {
      "text/html": [
       "<div>\n",
       "<style scoped>\n",
       "    .dataframe tbody tr th:only-of-type {\n",
       "        vertical-align: middle;\n",
       "    }\n",
       "\n",
       "    .dataframe tbody tr th {\n",
       "        vertical-align: top;\n",
       "    }\n",
       "\n",
       "    .dataframe thead th {\n",
       "        text-align: right;\n",
       "    }\n",
       "</style>\n",
       "<table border=\"1\" class=\"dataframe\">\n",
       "  <thead>\n",
       "    <tr style=\"text-align: right;\">\n",
       "      <th></th>\n",
       "      <th>File</th>\n",
       "      <th>Covariance_l</th>\n",
       "      <th>Correlation_l</th>\n",
       "      <th>Var(x)_l</th>\n",
       "      <th>Var(y)_l</th>\n",
       "      <th>Angle1_l</th>\n",
       "      <th>Angle2_l</th>\n",
       "      <th>Covariance_c</th>\n",
       "      <th>Correlation_c</th>\n",
       "      <th>Var(x)_c</th>\n",
       "      <th>...</th>\n",
       "      <th>Var(y)_sx</th>\n",
       "      <th>Angle1_sx</th>\n",
       "      <th>Angle2_sx</th>\n",
       "      <th>Covariance_sy</th>\n",
       "      <th>Correlation_sy</th>\n",
       "      <th>Var(x)_sy</th>\n",
       "      <th>Var(y)_sy</th>\n",
       "      <th>Angle1_sy</th>\n",
       "      <th>Angle2_sy</th>\n",
       "      <th>BIRD</th>\n",
       "    </tr>\n",
       "  </thead>\n",
       "  <tbody>\n",
       "  </tbody>\n",
       "</table>\n",
       "<p>0 rows × 26 columns</p>\n",
       "</div>"
      ],
      "text/plain": [
       "Empty DataFrame\n",
       "Columns: [File, Covariance_l, Correlation_l, Var(x)_l, Var(y)_l, Angle1_l, Angle2_l, Covariance_c, Correlation_c, Var(x)_c, Var(y)_c, Angle1_c, Angle2_c, Covariance_sx, Correlation_sx, Var(x)_sx, Var(y)_sx, Angle1_sx, Angle2_sx, Covariance_sy, Correlation_sy, Var(x)_sy, Var(y)_sy, Angle1_sy, Angle2_sy, BIRD]\n",
       "Index: []\n",
       "\n",
       "[0 rows x 26 columns]"
      ]
     },
     "execution_count": 12,
     "metadata": {},
     "output_type": "execute_result"
    }
   ],
   "source": [
    "df"
   ]
  },
  {
   "cell_type": "code",
   "execution_count": 13,
   "metadata": {},
   "outputs": [
    {
     "data": {
      "text/html": [
       "<div>\n",
       "<style scoped>\n",
       "    .dataframe tbody tr th:only-of-type {\n",
       "        vertical-align: middle;\n",
       "    }\n",
       "\n",
       "    .dataframe tbody tr th {\n",
       "        vertical-align: top;\n",
       "    }\n",
       "\n",
       "    .dataframe thead th {\n",
       "        text-align: right;\n",
       "    }\n",
       "</style>\n",
       "<table border=\"1\" class=\"dataframe\">\n",
       "  <thead>\n",
       "    <tr style=\"text-align: right;\">\n",
       "      <th></th>\n",
       "      <th>File</th>\n",
       "      <th>Covariance_l</th>\n",
       "      <th>Correlation_l</th>\n",
       "      <th>Var(x)_l</th>\n",
       "      <th>Var(y)_l</th>\n",
       "      <th>Angle1_l</th>\n",
       "      <th>Angle2_l</th>\n",
       "      <th>Covariance_c</th>\n",
       "      <th>Correlation_c</th>\n",
       "      <th>Var(x)_c</th>\n",
       "      <th>...</th>\n",
       "      <th>Var(y)_sx</th>\n",
       "      <th>Angle1_sx</th>\n",
       "      <th>Angle2_sx</th>\n",
       "      <th>Covariance_sy</th>\n",
       "      <th>Correlation_sy</th>\n",
       "      <th>Var(x)_sy</th>\n",
       "      <th>Var(y)_sy</th>\n",
       "      <th>Angle1_sy</th>\n",
       "      <th>Angle2_sy</th>\n",
       "      <th>BIRD</th>\n",
       "    </tr>\n",
       "  </thead>\n",
       "  <tbody>\n",
       "  </tbody>\n",
       "</table>\n",
       "<p>0 rows × 26 columns</p>\n",
       "</div>"
      ],
      "text/plain": [
       "Empty DataFrame\n",
       "Columns: [File, Covariance_l, Correlation_l, Var(x)_l, Var(y)_l, Angle1_l, Angle2_l, Covariance_c, Correlation_c, Var(x)_c, Var(y)_c, Angle1_c, Angle2_c, Covariance_sx, Correlation_sx, Var(x)_sx, Var(y)_sx, Angle1_sx, Angle2_sx, Covariance_sy, Correlation_sy, Var(x)_sy, Var(y)_sy, Angle1_sy, Angle2_sy, BIRD]\n",
       "Index: []\n",
       "\n",
       "[0 rows x 26 columns]"
      ]
     },
     "execution_count": 13,
     "metadata": {},
     "output_type": "execute_result"
    }
   ],
   "source": [
    "df_test = pd.DataFrame(columns = ['File','Covariance_l','Correlation_l','Var(x)_l','Var(y)_l','Angle1_l','Angle2_l',                            \n",
    "                                    'Covariance_c','Correlation_c','Var(x)_c','Var(y)_c','Angle1_c','Angle2_c',\n",
    "                                    'Covariance_sx','Correlation_sx','Var(x)_sx','Var(y)_sx','Angle1_sx','Angle2_sx',\n",
    "                                    'Covariance_sy','Correlation_sy','Var(x)_sy','Var(y)_sy','Angle1_sy','Angle2_sy',                                    \n",
    "                             'BIRD'])\n",
    "df_test"
   ]
  },
  {
   "cell_type": "code",
   "execution_count": 14,
   "metadata": {},
   "outputs": [
    {
     "name": "stderr",
     "output_type": "stream",
     "text": [
      "C:\\Users\\USER\\Anaconda3\\lib\\site-packages\\ipykernel_launcher.py:9: RuntimeWarning: Degrees of freedom <= 0 for slice\n",
      "  if __name__ == '__main__':\n",
      "C:\\Users\\USER\\AppData\\Roaming\\Python\\Python36\\site-packages\\numpy\\lib\\function_base.py:2451: RuntimeWarning: divide by zero encountered in true_divide\n",
      "  c *= np.true_divide(1, fact)\n",
      "C:\\Users\\USER\\AppData\\Roaming\\Python\\Python36\\site-packages\\numpy\\lib\\function_base.py:2451: RuntimeWarning: invalid value encountered in multiply\n",
      "  c *= np.true_divide(1, fact)\n",
      "C:\\Users\\USER\\Anaconda3\\lib\\site-packages\\ipykernel_launcher.py:16: RuntimeWarning: divide by zero encountered in double_scalars\n",
      "  app.launch_new_instance()\n",
      "C:\\Users\\USER\\Anaconda3\\lib\\site-packages\\ipykernel_launcher.py:19: RuntimeWarning: Degrees of freedom <= 0 for slice\n",
      "C:\\Users\\USER\\AppData\\Roaming\\Python\\Python36\\site-packages\\numpy\\lib\\function_base.py:2522: RuntimeWarning: Degrees of freedom <= 0 for slice\n",
      "  c = cov(x, y, rowvar)\n",
      "C:\\Users\\USER\\AppData\\Roaming\\Python\\Python36\\site-packages\\numpy\\core\\fromnumeric.py:3118: RuntimeWarning: Mean of empty slice.\n",
      "  out=out, **kwargs)\n",
      "C:\\Users\\USER\\AppData\\Roaming\\Python\\Python36\\site-packages\\numpy\\core\\_methods.py:85: RuntimeWarning: invalid value encountered in double_scalars\n",
      "  ret = ret.dtype.type(ret / rcount)\n",
      "C:\\Users\\USER\\AppData\\Roaming\\Python\\Python36\\site-packages\\numpy\\lib\\function_base.py:392: RuntimeWarning: Mean of empty slice.\n",
      "  avg = a.mean(axis)\n",
      "C:\\Users\\USER\\AppData\\Roaming\\Python\\Python36\\site-packages\\numpy\\core\\_methods.py:78: RuntimeWarning: invalid value encountered in true_divide\n",
      "  ret, rcount, out=ret, casting='unsafe', subok=False)\n",
      "C:\\Users\\USER\\AppData\\Roaming\\Python\\Python36\\site-packages\\numpy\\core\\fromnumeric.py:3367: RuntimeWarning: Degrees of freedom <= 0 for slice\n",
      "  **kwargs)\n",
      "C:\\Users\\USER\\AppData\\Roaming\\Python\\Python36\\site-packages\\numpy\\core\\_methods.py:110: RuntimeWarning: invalid value encountered in true_divide\n",
      "  arrmean, rcount, out=arrmean, casting='unsafe', subok=False)\n",
      "C:\\Users\\USER\\AppData\\Roaming\\Python\\Python36\\site-packages\\numpy\\core\\_methods.py:132: RuntimeWarning: invalid value encountered in double_scalars\n",
      "  ret = ret.dtype.type(ret / rcount)\n",
      "C:\\Users\\USER\\Anaconda3\\lib\\site-packages\\ipykernel_launcher.py:17: RuntimeWarning: divide by zero encountered in double_scalars\n",
      "C:\\Users\\USER\\AppData\\Roaming\\Python\\Python36\\site-packages\\numpy\\lib\\function_base.py:2530: RuntimeWarning: invalid value encountered in true_divide\n",
      "  c /= stddev[:, None]\n",
      "C:\\Users\\USER\\AppData\\Roaming\\Python\\Python36\\site-packages\\numpy\\lib\\function_base.py:2531: RuntimeWarning: invalid value encountered in true_divide\n",
      "  c /= stddev[None, :]\n"
     ]
    }
   ],
   "source": [
    "for i in range(len(onlyfiles_test)):    \n",
    "    \n",
    "    try:\n",
    "        file = onlyfiles_test[i]\n",
    "        img = cv2.imread('val_and_test/'+file)     \n",
    "        gray = cv2.cvtColor(img,cv2.COLOR_BGR2GRAY)              \n",
    "        cov_l,cor_l,varx_l,vary_l,angle1_l,angle2_l = edge_detect(gray,'laplacian') \n",
    "        cov_c,cor_c,varx_c,vary_c,angle1_c,angle2_c = edge_detect(gray,'canny')\n",
    "        cov_sx,cor_sx,varx_sx,vary_sx,angle1_sx,angle2_sx = edge_detect(gray,'sobelx')   \n",
    "        cov_sy,cor_sy,varx_sy,vary_sy,angle1_sy,angle2_sy = edge_detect(gray,'sobely')          \n",
    "        df_test = df_test.append({'File':file,\n",
    "                                  'Covariance_l':cov_l,'Correlation_l':cor_l,'Var(x)_l':varx_l,'Var(y)_l':vary_l,'Angle1_l':angle1_l,'Angle2_l':angle2_l,                            \n",
    "                                  'Covariance_c':cov_c,'Correlation_c':cor_c,'Var(x)_c':varx_c,'Var(y)_c':vary_c,'Angle1_c':angle1_c,'Angle2_c':angle2_c,\n",
    "                                  'Covariance_sx':cov_sx,'Correlation_sx':cor_sx,'Var(x)_sx':varx_sx,'Var(y)_sx':vary_sx,'Angle1_sx':angle1_sx,'Angle2_sx':angle2_sx,\n",
    "                                  'Covariance_sy':cov_sy,'Correlation_sy':cor_sy,'Var(x)_sy':varx_sy,'Var(y)_sy':vary_sy,'Angle1_sy':angle1_sy,'Angle2_sy':angle2_sy                                  \n",
    "                             },ignore_index=True)\n",
    "                     \n",
    "    except:\n",
    "        print('some error at: ',i)\n",
    "        continue"
   ]
  },
  {
   "cell_type": "code",
   "execution_count": 15,
   "metadata": {},
   "outputs": [
    {
     "data": {
      "text/html": [
       "<div>\n",
       "<style scoped>\n",
       "    .dataframe tbody tr th:only-of-type {\n",
       "        vertical-align: middle;\n",
       "    }\n",
       "\n",
       "    .dataframe tbody tr th {\n",
       "        vertical-align: top;\n",
       "    }\n",
       "\n",
       "    .dataframe thead th {\n",
       "        text-align: right;\n",
       "    }\n",
       "</style>\n",
       "<table border=\"1\" class=\"dataframe\">\n",
       "  <thead>\n",
       "    <tr style=\"text-align: right;\">\n",
       "      <th></th>\n",
       "      <th>File</th>\n",
       "      <th>Covariance_l</th>\n",
       "      <th>Correlation_l</th>\n",
       "      <th>Var(x)_l</th>\n",
       "      <th>Var(y)_l</th>\n",
       "      <th>Angle1_l</th>\n",
       "      <th>Angle2_l</th>\n",
       "      <th>Covariance_c</th>\n",
       "      <th>Correlation_c</th>\n",
       "      <th>Var(x)_c</th>\n",
       "      <th>...</th>\n",
       "      <th>Var(y)_sx</th>\n",
       "      <th>Angle1_sx</th>\n",
       "      <th>Angle2_sx</th>\n",
       "      <th>Covariance_sy</th>\n",
       "      <th>Correlation_sy</th>\n",
       "      <th>Var(x)_sy</th>\n",
       "      <th>Var(y)_sy</th>\n",
       "      <th>Angle1_sy</th>\n",
       "      <th>Angle2_sy</th>\n",
       "      <th>BIRD</th>\n",
       "    </tr>\n",
       "  </thead>\n",
       "  <tbody>\n",
       "    <tr>\n",
       "      <th>0</th>\n",
       "      <td>0000.JPG</td>\n",
       "      <td>-119.309524</td>\n",
       "      <td>-0.111133</td>\n",
       "      <td>1826.252626</td>\n",
       "      <td>617.309262</td>\n",
       "      <td>-5.522878</td>\n",
       "      <td>84.477122</td>\n",
       "      <td>-156.516393</td>\n",
       "      <td>-0.765936</td>\n",
       "      <td>318.392398</td>\n",
       "      <td>...</td>\n",
       "      <td>4152.939747</td>\n",
       "      <td>-46.530068</td>\n",
       "      <td>43.469932</td>\n",
       "      <td>26.027402</td>\n",
       "      <td>0.006273</td>\n",
       "      <td>4186.850480</td>\n",
       "      <td>4110.813800</td>\n",
       "      <td>17.197175</td>\n",
       "      <td>-72.802825</td>\n",
       "      <td>NaN</td>\n",
       "    </tr>\n",
       "    <tr>\n",
       "      <th>1</th>\n",
       "      <td>0001.JPG</td>\n",
       "      <td>NaN</td>\n",
       "      <td>NaN</td>\n",
       "      <td>0.000000</td>\n",
       "      <td>0.000000</td>\n",
       "      <td>90.000000</td>\n",
       "      <td>0.000000</td>\n",
       "      <td>NaN</td>\n",
       "      <td>NaN</td>\n",
       "      <td>NaN</td>\n",
       "      <td>...</td>\n",
       "      <td>4106.284664</td>\n",
       "      <td>18.461044</td>\n",
       "      <td>-71.538956</td>\n",
       "      <td>44.172180</td>\n",
       "      <td>0.010622</td>\n",
       "      <td>4246.592757</td>\n",
       "      <td>4071.638524</td>\n",
       "      <td>13.395357</td>\n",
       "      <td>-76.604643</td>\n",
       "      <td>NaN</td>\n",
       "    </tr>\n",
       "  </tbody>\n",
       "</table>\n",
       "<p>2 rows × 26 columns</p>\n",
       "</div>"
      ],
      "text/plain": [
       "       File  Covariance_l  Correlation_l     Var(x)_l    Var(y)_l   Angle1_l  \\\n",
       "0  0000.JPG   -119.309524      -0.111133  1826.252626  617.309262  -5.522878   \n",
       "1  0001.JPG           NaN            NaN     0.000000    0.000000  90.000000   \n",
       "\n",
       "    Angle2_l  Covariance_c  Correlation_c    Var(x)_c  ...    Var(y)_sx  \\\n",
       "0  84.477122   -156.516393      -0.765936  318.392398  ...  4152.939747   \n",
       "1   0.000000           NaN            NaN         NaN  ...  4106.284664   \n",
       "\n",
       "   Angle1_sx  Angle2_sx  Covariance_sy  Correlation_sy    Var(x)_sy  \\\n",
       "0 -46.530068  43.469932      26.027402        0.006273  4186.850480   \n",
       "1  18.461044 -71.538956      44.172180        0.010622  4246.592757   \n",
       "\n",
       "     Var(y)_sy  Angle1_sy  Angle2_sy  BIRD  \n",
       "0  4110.813800  17.197175 -72.802825   NaN  \n",
       "1  4071.638524  13.395357 -76.604643   NaN  \n",
       "\n",
       "[2 rows x 26 columns]"
      ]
     },
     "execution_count": 15,
     "metadata": {},
     "output_type": "execute_result"
    }
   ],
   "source": [
    "df_test.head(2)"
   ]
  },
  {
   "cell_type": "code",
   "execution_count": 16,
   "metadata": {
    "collapsed": true
   },
   "outputs": [],
   "source": [
    "df_test.to_csv('Bird_Test_df.csv')"
   ]
  },
  {
   "cell_type": "code",
   "execution_count": 17,
   "metadata": {
    "collapsed": true
   },
   "outputs": [],
   "source": [
    "df_test=df_test[0:0]"
   ]
  },
  {
   "cell_type": "code",
   "execution_count": null,
   "metadata": {
    "collapsed": true
   },
   "outputs": [],
   "source": []
  }
 ],
 "metadata": {
  "kernelspec": {
   "display_name": "Python 3",
   "language": "python",
   "name": "python3"
  },
  "language_info": {
   "codemirror_mode": {
    "name": "ipython",
    "version": 3
   },
   "file_extension": ".py",
   "mimetype": "text/x-python",
   "name": "python",
   "nbconvert_exporter": "python",
   "pygments_lexer": "ipython3",
   "version": "3.6.3"
  }
 },
 "nbformat": 4,
 "nbformat_minor": 2
}
